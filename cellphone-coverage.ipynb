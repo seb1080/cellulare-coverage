{
 "cells": [
  {
   "cell_type": "markdown",
   "metadata": {},
   "source": [
    "# Cellphone Coverage\n",
    "\n",
    "conda env list\n",
    "\n",
    "conda activate geoenv"
   ]
  },
  {
   "cell_type": "code",
   "execution_count": 2,
   "metadata": {},
   "outputs": [],
   "source": [
    "import geopandas as gpd\n",
    "import pandas as pd\n",
    "from shapely import wkt\n",
    "from shapely.geometry import Point\n",
    "import requests, zipfile, io"
   ]
  },
  {
   "cell_type": "code",
   "execution_count": 3,
   "metadata": {},
   "outputs": [],
   "source": [
    "rawDataRelativePath = './dataSources'\n",
    "targetFile = 'Canada_cell_towers.csv'\n",
    "pathAndFile = \"%s/%s\" % (rawDataRelativePath, targetFile)\n",
    "cellTowers = gpd.read_file(pathAndFile)\n",
    "cellTowers = cellTowers.rename(columns={'field_1': 'radio',\n",
    "                                        'field_2': 'Mobile Country Code',\n",
    "                                        'field_3': 'net',\n",
    "                                        'field_4': 'area',\n",
    "                                        'field_5': 'cell_Id',\n",
    "                                        'field_6': 'unit',\n",
    "                                        'field_7': 'lon',\n",
    "                                        'field_8': 'lat',\n",
    "                                        'field_9': 'range (m)',\n",
    "                                        'field_10': 'samples',\n",
    "                                        'field_11': 'changeable',\n",
    "                                        'field_12': 'created',\n",
    "                                        'field_13': 'updated',\n",
    "                                        'field_14': 'averageSignal',\n",
    "                                        })\n",
    "cellTowers = gpd.GeoDataFrame(cellTowers, geometry=gpd.points_from_xy(cellTowers['lon'], cellTowers['lat']), crs=\"EPSG:4326\")\n",
    "cellTowers.to_crs(\"EPSG:4326\", inplace=True)\n",
    "cellTowers = cellTowers.drop(columns=['lon', 'lat'])\n",
    "# cellTowers.count()\n",
    "# cellTowers.head()"
   ]
  },
  {
   "cell_type": "code",
   "execution_count": 4,
   "metadata": {},
   "outputs": [],
   "source": [
    "canadaRectangular = pd.DataFrame(\n",
    "    {\n",
    "        \"Country\": [\"Canada\"],\n",
    "        \"Coordinates\": [\n",
    "            \"POLYGON ((-80 52, -55 52, -55 45, -80 45, -80 52))\"\n",
    "        ],\n",
    "    }\n",
    ")\n",
    "canadaRectangular[\"Coordinates\"] = gpd.GeoSeries.from_wkt(canadaRectangular[\"Coordinates\"])\n",
    "canadaRectangular = gpd.GeoDataFrame(canadaRectangular, geometry=\"Coordinates\", crs=\"EPSG:4269\")\n",
    "canadaRectangular.to_crs(\"EPSG:4326\", inplace=True)\n",
    "# canadaRectangular.plot()"
   ]
  },
  {
   "cell_type": "code",
   "execution_count": 5,
   "metadata": {},
   "outputs": [
    {
     "data": {
      "text/plain": [
       "<Axes: >"
      ]
     },
     "execution_count": 5,
     "metadata": {},
     "output_type": "execute_result"
    },
    {
     "data": {
      "image/png": "[encoded data removed]",
      "text/plain": [
       "<Figure size 640x480 with 1 Axes>"
      ]
     },
     "metadata": {},
     "output_type": "display_data"
    }
   ],
   "source": [
    "rectangleQuebec = pd.DataFrame(\n",
    "    {\n",
    "        \"Province\": [\"Quebec\"],\n",
    "        \"Coordinates\": [\n",
    "            \"POLYGON ((-78 63, -57 63, -57 45, -78 45, -78 63))\"\n",
    "        ],\n",
    "    }\n",
    ")\n",
    "rectangleQuebec[\"Coordinates\"] = gpd.GeoSeries.from_wkt(rectangleQuebec[\"Coordinates\"])\n",
    "rectangleQuebec = gpd.GeoDataFrame(rectangleQuebec, geometry=\"Coordinates\", crs=\"EPSG:4269\")\n",
    "rectangleQuebec.to_crs(\"EPSG:4326\", inplace=True)\n",
    "rectangleQuebec.plot()"
   ]
  },
  {
   "cell_type": "code",
   "execution_count": 6,
   "metadata": {},
   "outputs": [
    {
     "data": {
      "text/html": [
       "<div>\n",
       "<style scoped>\n",
       "    .dataframe tbody tr th:only-of-type {\n",
       "        vertical-align: middle;\n",
       "    }\n",
       "\n",
       "    .dataframe tbody tr th {\n",
       "        vertical-align: top;\n",
       "    }\n",
       "\n",
       "    .dataframe thead th {\n",
       "        text-align: right;\n",
       "    }\n",
       "</style>\n",
       "<table border=\"1\" class=\"dataframe\">\n",
       "  <thead>\n",
       "    <tr style=\"text-align: right;\">\n",
       "      <th></th>\n",
       "      <th>radio</th>\n",
       "      <th>Mobile Country Code</th>\n",
       "      <th>net</th>\n",
       "      <th>area</th>\n",
       "      <th>cell_Id</th>\n",
       "      <th>unit</th>\n",
       "      <th>range (m)</th>\n",
       "      <th>samples</th>\n",
       "      <th>changeable</th>\n",
       "      <th>created</th>\n",
       "      <th>updated</th>\n",
       "      <th>averageSignal</th>\n",
       "      <th>geometry</th>\n",
       "    </tr>\n",
       "  </thead>\n",
       "  <tbody>\n",
       "    <tr>\n",
       "      <th>67</th>\n",
       "      <td>GSM</td>\n",
       "      <td>302</td>\n",
       "      <td>720</td>\n",
       "      <td>2000</td>\n",
       "      <td>2632</td>\n",
       "      <td>0</td>\n",
       "      <td>772</td>\n",
       "      <td>109</td>\n",
       "      <td>1</td>\n",
       "      <td>1345498434</td>\n",
       "      <td>1694357547</td>\n",
       "      <td>0</td>\n",
       "      <td>POINT (-73.58940 45.51350)</td>\n",
       "    </tr>\n",
       "    <tr>\n",
       "      <th>102</th>\n",
       "      <td>GSM</td>\n",
       "      <td>302</td>\n",
       "      <td>720</td>\n",
       "      <td>2000</td>\n",
       "      <td>1081</td>\n",
       "      <td>0</td>\n",
       "      <td>1000</td>\n",
       "      <td>97</td>\n",
       "      <td>1</td>\n",
       "      <td>1345546469</td>\n",
       "      <td>1694365071</td>\n",
       "      <td>0</td>\n",
       "      <td>POINT (-73.56920 45.50790)</td>\n",
       "    </tr>\n",
       "    <tr>\n",
       "      <th>109</th>\n",
       "      <td>GSM</td>\n",
       "      <td>302</td>\n",
       "      <td>720</td>\n",
       "      <td>2000</td>\n",
       "      <td>1083</td>\n",
       "      <td>0</td>\n",
       "      <td>643</td>\n",
       "      <td>121</td>\n",
       "      <td>1</td>\n",
       "      <td>1345641229</td>\n",
       "      <td>1694363891</td>\n",
       "      <td>0</td>\n",
       "      <td>POINT (-73.57160 45.50810)</td>\n",
       "    </tr>\n",
       "    <tr>\n",
       "      <th>113</th>\n",
       "      <td>GSM</td>\n",
       "      <td>302</td>\n",
       "      <td>720</td>\n",
       "      <td>3000</td>\n",
       "      <td>11862</td>\n",
       "      <td>0</td>\n",
       "      <td>18830</td>\n",
       "      <td>27</td>\n",
       "      <td>1</td>\n",
       "      <td>1355692561</td>\n",
       "      <td>1727196905</td>\n",
       "      <td>0</td>\n",
       "      <td>POINT (-70.89290 47.03770)</td>\n",
       "    </tr>\n",
       "    <tr>\n",
       "      <th>114</th>\n",
       "      <td>UMTS</td>\n",
       "      <td>302</td>\n",
       "      <td>720</td>\n",
       "      <td>50000</td>\n",
       "      <td>466357</td>\n",
       "      <td>298</td>\n",
       "      <td>28471</td>\n",
       "      <td>159</td>\n",
       "      <td>1</td>\n",
       "      <td>1357153544</td>\n",
       "      <td>1712184842</td>\n",
       "      <td>0</td>\n",
       "      <td>POINT (-70.84370 46.96950)</td>\n",
       "    </tr>\n",
       "  </tbody>\n",
       "</table>\n",
       "</div>"
      ],
      "text/plain": [
       "    radio Mobile Country Code  net   area cell_Id unit range (m) samples  \\\n",
       "67    GSM                 302  720   2000    2632    0       772     109   \n",
       "102   GSM                 302  720   2000    1081    0      1000      97   \n",
       "109   GSM                 302  720   2000    1083    0       643     121   \n",
       "113   GSM                 302  720   3000   11862    0     18830      27   \n",
       "114  UMTS                 302  720  50000  466357  298     28471     159   \n",
       "\n",
       "    changeable     created     updated averageSignal  \\\n",
       "67           1  1345498434  1694357547             0   \n",
       "102          1  1345546469  1694365071             0   \n",
       "109          1  1345641229  1694363891             0   \n",
       "113          1  1355692561  1727196905             0   \n",
       "114          1  1357153544  1712184842             0   \n",
       "\n",
       "                       geometry  \n",
       "67   POINT (-73.58940 45.51350)  \n",
       "102  POINT (-73.56920 45.50790)  \n",
       "109  POINT (-73.57160 45.50810)  \n",
       "113  POINT (-70.89290 47.03770)  \n",
       "114  POINT (-70.84370 46.96950)  "
      ]
     },
     "execution_count": 6,
     "metadata": {},
     "output_type": "execute_result"
    }
   ],
   "source": [
    "cellTowersCanada = gpd.sjoin(cellTowers, rectangleQuebec)\n",
    "cellTowersCanada = cellTowersCanada.drop(columns=['Province'])\n",
    "cellTowersCanada = cellTowersCanada.drop(columns=['index_right'])\n",
    "# cellTowersCanada.count()\n",
    "cellTowersCanada.head()"
   ]
  },
  {
   "cell_type": "code",
   "execution_count": 7,
   "metadata": {},
   "outputs": [],
   "source": [
    "cellTowersCanada.to_csv('dataOutput/cellTowersQuebec.csv', index=False)"
   ]
  }
 ],
 "metadata": {
  "kernelspec": {
   "display_name": "geoenv",
   "language": "python",
   "name": "python3"
  },
  "language_info": {
   "codemirror_mode": {
    "name": "ipython",
    "version": 3
   },
   "file_extension": ".py",
   "mimetype": "text/x-python",
   "name": "python",
   "nbconvert_exporter": "python",
   "pygments_lexer": "ipython3",
   "version": "3.11.5"
  }
 },
 "nbformat": 4,
 "nbformat_minor": 2
}
